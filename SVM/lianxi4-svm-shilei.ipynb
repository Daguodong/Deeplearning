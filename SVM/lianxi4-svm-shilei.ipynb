{
 "cells": [
  {
   "cell_type": "code",
   "execution_count": 83,
   "metadata": {},
   "outputs": [],
   "source": [
    "'''\n",
    "这段代码演示svm关于乳腺癌检测应用的一个实例，仔细阅读，能够发现---模型选择与参数调优的重要性！！！！！\n",
    "\n",
    "'''\n",
    "import time  #时间戳\n",
    "import numpy as np\n",
    "from sklearn.svm import SVC\n",
    "from sklearn.datasets import load_breast_cancer       #导入乳腺癌数据集，sklearn的datasets里有很多数据集\n",
    "from sklearn.model_selection import train_test_split  #导入数据集切分函数！！！！\n",
    "from sklearn.model_selection import GridSearchCV\n",
    "from sklearn import metrics   #与查准率，召回率，f1有关"
   ]
  },
  {
   "cell_type": "code",
   "execution_count": 84,
   "metadata": {},
   "outputs": [
    {
     "name": "stdout",
     "output_type": "stream",
     "text": [
      "data shape:(569, 30); no. positive:357; no. negative:212\n"
     ]
    }
   ],
   "source": [
    "#加载数据集\n",
    "cancer = load_breast_cancer()\n",
    "X = cancer.data\n",
    "y = cancer.target\n",
    "print('data shape:{0}; no. positive:{1}; no. negative:{2}'.format(X.shape, y[y==1].shape[0], y[y==0].shape[0]))  #打印正负类数\n",
    "X_train, X_test, y_train, y_test = train_test_split(X, y, test_size=0.2)  #数据集切分,分成训练集，测试集"
   ]
  },
  {
   "cell_type": "code",
   "execution_count": 85,
   "metadata": {},
   "outputs": [
    {
     "name": "stdout",
     "output_type": "stream",
     "text": [
      "耗时： 0.016562696480100596\n",
      "Train_score:1.0\n",
      "Test_score:0.6754385964912281\n"
     ]
    }
   ],
   "source": [
    "#注意下面输出结果----过拟合（gamma的影响），！！！！！注意这里gamma可能与吴恩达讲解有出入,C的影响与吴恩达一致\n",
    "#使用RBF高斯核函数\n",
    "clf = SVC(C=1, kernel='rbf', gamma=0.1)\n",
    "start = time.clock()\n",
    "clf.fit(X_train, y_train)\n",
    "print(\"耗时：\",time.clock()-start)\n",
    "print(\"Train_score:{0}\\nTest_score:{1}\".format(clf.score(X_train, y_train), clf.score(X_test, y_test))) #打印训练集测试集正确率"
   ]
  },
  {
   "cell_type": "code",
   "execution_count": 86,
   "metadata": {},
   "outputs": [
    {
     "name": "stdout",
     "output_type": "stream",
     "text": [
      "耗时： 6.52321767588745\n",
      "best param: {'gamma': 8.080808080808081e-05}\n",
      "best score: 0.945054945054945\n",
      "查准率： 0.935064935064935\n",
      "召回率： 0.9473684210526315\n",
      "F1： 0.9411764705882352\n"
     ]
    }
   ],
   "source": [
    "'''\n",
    "下面用GridSearchCV来自动选择γ的最优参数以及对应的交叉验证评分及召回率和F1得分！！！！！！！\n",
    "'''\n",
    "\n",
    "thresholds = np.linspace(0, 0.001, 100)\n",
    "# 通过交叉验证设置参数\n",
    "param_grid = {'gamma': thresholds}\n",
    "\n",
    "clf = GridSearchCV(SVC(kernel='rbf'), param_grid, cv=5)\n",
    "start = time.clock()\n",
    "clf.fit(X_train, y_train)\n",
    "print(\"耗时：\",time.clock()-start)\n",
    "print(\"best param: {0}\\nbest score: {1}\".format(clf.best_params_,  clf.best_score_))\n",
    "y_pred = clf.predict(X_test)\n",
    "\n",
    "print(\"查准率：\",metrics.precision_score(y_pred, y_test))\n",
    "print(\"召回率：\",metrics.recall_score(y_pred, y_test))\n",
    "print(\"F1：\",metrics.f1_score(y_pred, y_test))"
   ]
  },
  {
   "cell_type": "code",
   "execution_count": 89,
   "metadata": {},
   "outputs": [
    {
     "name": "stdout",
     "output_type": "stream",
     "text": [
      "耗时： 30.933629662018404\n",
      "Train_score:0.9714285714285714\n",
      "Test_score:0.9736842105263158\n",
      "查准率： 0.987012987012987\n",
      "召回率： 0.9743589743589743\n",
      "F1： 0.9806451612903225\n"
     ]
    }
   ],
   "source": [
    "#使用多项式核函数\n",
    "clf = SVC(C=1., kernel='poly',gamma='auto', degree=2)\n",
    "start = time.clock()\n",
    "clf.fit(X_train, y_train)\n",
    "print(\"耗时：\",time.clock()-start)\n",
    "\n",
    "y_pred = clf.predict(X_test)\n",
    "print(\"Train_score:{0}\\nTest_score:{1}\".format(clf.score(X_train, y_train), clf.score(X_test, y_test)))\n",
    "print(\"查准率：\",metrics.precision_score(y_pred, y_test))\n",
    "print(\"召回率：\",metrics.recall_score(y_pred, y_test))\n",
    "print(\"F1：\",metrics.f1_score(y_pred, y_test))"
   ]
  },
  {
   "cell_type": "code",
   "execution_count": null,
   "metadata": {},
   "outputs": [],
   "source": [
    "#注意对比以上两种模型的优缺点！！！！！！"
   ]
  }
 ],
 "metadata": {
  "kernelspec": {
   "display_name": "Python 3",
   "language": "python",
   "name": "python3"
  },
  "language_info": {
   "codemirror_mode": {
    "name": "ipython",
    "version": 3
   },
   "file_extension": ".py",
   "mimetype": "text/x-python",
   "name": "python",
   "nbconvert_exporter": "python",
   "pygments_lexer": "ipython3",
   "version": "3.6.5"
  }
 },
 "nbformat": 4,
 "nbformat_minor": 2
}
