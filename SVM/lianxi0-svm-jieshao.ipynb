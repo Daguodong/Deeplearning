{
 "cells": [
  {
   "cell_type": "code",
   "execution_count": 2,
   "metadata": {},
   "outputs": [
    {
     "data": {
      "text/plain": [
       "SVC(C=1.0, cache_size=200, class_weight=None, coef0=0.0,\n",
       "  decision_function_shape='ovr', degree=3, gamma='auto', kernel='rbf',\n",
       "  max_iter=-1, probability=False, random_state=None, shrinking=True,\n",
       "  tol=0.001, verbose=False)"
      ]
     },
     "execution_count": 2,
     "metadata": {},
     "output_type": "execute_result"
    }
   ],
   "source": [
    "'''\n",
    "#在数据集上进行多类别分类，主要可以使用SVC，NuSVC和LinearSVC这三个类!!!!!!!\n",
    "\n",
    "SVC参数解释\n",
    "（1）C: 目标函数的惩罚系数C，用来平衡分类间隔margin和错分样本的，default C = 1.0；\n",
    "（2）kernel：参数选择有RBF, Linear, Poly, Sigmoid, 默认的是\"RBF\";\n",
    "（3）degree：if you choose 'Poly' in param 2, this is effective, degree决定了多项式的最高次幂；\n",
    "（4）gamma：核函数的系数('Poly', 'RBF' and 'Sigmoid'), 默认是gamma = 1 / n_features;\n",
    "（5）coef0：核函数中的独立项，'RBF' and 'Poly'有效；\n",
    "（6）probablity: 可能性估计是否使用(true or false)；\n",
    "（7）shrinking：是否进行启发式；\n",
    "（8）tol（default = 1e - 3）: svm结束标准的精度;\n",
    "（9）cache_size: 制定训练所需要的内存（以MB为单位）；\n",
    "（10）class_weight: 每个类所占据的权重，不同的类设置不同的惩罚参数C, 缺省的话自适应；\n",
    "（11）verbose: 跟多线程有关，不大明白啥意思具体；\n",
    "（12）max_iter: 最大迭代次数，default = 1， if max_iter = -1, no limited;\n",
    "（13）decision_function_shape ： ‘ovo’ 一对一, ‘ovr’ 一对多  or None 无, default=None\n",
    "（14）random_state ：用于概率估计的数据重排时的伪随机数生成器的种子。\n",
    " ps：7,8,9一般不考虑。\n",
    " \n",
    "'''\n",
    "\n",
    "\n",
    "\n",
    "from sklearn import svm\n",
    "import numpy as np\n",
    "#二分类，以svc介绍（NuSvc类似）\n",
    "x= np.array([[-1,-1],[-2,-1],[2,1]])\n",
    "y = np.array([1,1,2])\n",
    "clf = svm.SVC(gamma='auto')\n",
    "clf.fit(x, y)\n",
    "#以上代码执行完后，已经训练好模型"
   ]
  },
  {
   "cell_type": "code",
   "execution_count": 3,
   "metadata": {},
   "outputs": [
    {
     "data": {
      "text/plain": [
       "array([1])"
      ]
     },
     "execution_count": 3,
     "metadata": {},
     "output_type": "execute_result"
    }
   ],
   "source": [
    "\n",
    "#这里新输入X进行预测！！！！！！！！！！\n",
    "clf.predict([[-2., -1.]])"
   ]
  },
  {
   "cell_type": "code",
   "execution_count": 4,
   "metadata": {},
   "outputs": [
    {
     "data": {
      "text/plain": [
       "array([[-1., -1.],\n",
       "       [-2., -1.],\n",
       "       [ 2.,  1.]])"
      ]
     },
     "execution_count": 4,
     "metadata": {},
     "output_type": "execute_result"
    }
   ],
   "source": [
    "\n",
    "#进行查看是哪些在支持SVM，即get support vectors\n",
    "clf.support_vectors_"
   ]
  },
  {
   "cell_type": "code",
   "execution_count": 5,
   "metadata": {},
   "outputs": [
    {
     "data": {
      "text/plain": [
       "array([2, 1])"
      ]
     },
     "execution_count": 5,
     "metadata": {},
     "output_type": "execute_result"
    }
   ],
   "source": [
    "\n",
    "# 获得每个类的支持向量数，get number of support vectors for each class\n",
    "clf.n_support_ "
   ]
  },
  {
   "cell_type": "code",
   "execution_count": 6,
   "metadata": {},
   "outputs": [
    {
     "data": {
      "text/plain": [
       "array([0, 1, 2])"
      ]
     },
     "execution_count": 6,
     "metadata": {},
     "output_type": "execute_result"
    }
   ],
   "source": [
    "\n",
    "#get indices of support vectors,获得支持向量的索引\n",
    "clf.support_ "
   ]
  },
  {
   "cell_type": "code",
   "execution_count": 7,
   "metadata": {},
   "outputs": [
    {
     "name": "stdout",
     "output_type": "stream",
     "text": [
      "6\n",
      "[[-0.63212056  0.          0.3495638   0.63212056  0.98168436  0.3495638 ]]\n",
      "4\n",
      "[[ 1.9370957   3.5         0.9370957  -0.37419139]]\n"
     ]
    },
    {
     "name": "stderr",
     "output_type": "stream",
     "text": [
      "C:\\ProgramData\\Anaconda3\\lib\\site-packages\\sklearn\\svm\\base.py:196: FutureWarning: The default value of gamma will change from 'auto' to 'scale' in version 0.22 to account better for unscaled features. Set gamma explicitly to 'auto' or 'scale' to avoid this warning.\n",
      "  \"avoid this warning.\", FutureWarning)\n",
      "C:\\ProgramData\\Anaconda3\\lib\\site-packages\\sklearn\\svm\\base.py:196: FutureWarning: The default value of gamma will change from 'auto' to 'scale' in version 0.22 to account better for unscaled features. Set gamma explicitly to 'auto' or 'scale' to avoid this warning.\n",
      "  \"avoid this warning.\", FutureWarning)\n"
     ]
    },
    {
     "data": {
      "text/plain": [
       "array([2])"
      ]
     },
     "execution_count": 7,
     "metadata": {},
     "output_type": "execute_result"
    }
   ],
   "source": [
    "'''\n",
    " #下面的警告，是由于版本问题，可以不予理会！！！！！！\n",
    " 在0.22版本中，gamma的默认值将从“auto”更改为“scale”，以更好地考虑未缩放的功能。 将gamma明确设置为“auto”或“scale”以避免此警告。\n",
    "\n",
    "'''\n",
    "# 多类别分类\n",
    "X1 = [[0], [1], [2], [3]]\n",
    "Y1 = [0, 1, 2, 3]\n",
    "####一对一\n",
    "clf = svm.SVC(decision_function_shape='ovo')\n",
    "clf.fit(X1, Y1) \n",
    "dec = clf.decision_function([[1]])\n",
    "print(dec.shape[1])\n",
    "print(dec)  #注意理解6/4下面的输出维数6\n",
    "####一对多\n",
    "clf1 = svm.SVC(decision_function_shape='ovr')\n",
    "clf1.fit(X1, Y1) \n",
    "dec1 = clf1.decision_function([[1]])\n",
    "print(dec1.shape[1])\n",
    "print(dec1)   #注意理解6/4下面的输出维数4\n",
    "clf1.predict([[2]])  #新样本预测"
   ]
  },
  {
   "cell_type": "markdown",
   "metadata": {},
   "source": [
    "LinearSVC是对支持向量分类的另一种实现，使用了线性核。注意LinearSVC不接受关键字kernel，因为核被预设为是线性的\n",
    "可以理解为使用的核函数是”linear“\n"
   ]
  },
  {
   "cell_type": "code",
   "execution_count": 8,
   "metadata": {},
   "outputs": [
    {
     "data": {
      "text/plain": [
       "LinearSVC(C=1.0, class_weight=None, dual=True, fit_intercept=True,\n",
       "     intercept_scaling=1, loss='squared_hinge', max_iter=1000,\n",
       "     multi_class='ovr', penalty='l2', random_state=None, tol=0.0001,\n",
       "     verbose=0)"
      ]
     },
     "execution_count": 8,
     "metadata": {},
     "output_type": "execute_result"
    }
   ],
   "source": [
    "#也是一对多\n",
    "lin_clf = svm.LinearSVC()\n",
    "lin_clf.fit(X1, Y1)\n",
    "#注意下面输出与上面SVC输出训练函数的参数的不同之处"
   ]
  },
  {
   "cell_type": "code",
   "execution_count": 9,
   "metadata": {},
   "outputs": [
    {
     "name": "stdout",
     "output_type": "stream",
     "text": [
      "[[-0.54545708 -0.37606615 -0.47861365 -0.58122661]]\n"
     ]
    },
    {
     "data": {
      "text/plain": [
       "4"
      ]
     },
     "execution_count": 9,
     "metadata": {},
     "output_type": "execute_result"
    }
   ],
   "source": [
    "dec = lin_clf.decision_function([[1]])   # LinearSVC也可以直接用“合并”，与SVC进行对比理解！！！\n",
    "print(dec)   #返回的是样本距离超平面的距离,有4个样本，即返回4维，注意与上面进行对比理解！！！！！\n",
    "dec.shape[1]\n",
    "\n"
   ]
  },
  {
   "cell_type": "code",
   "execution_count": 10,
   "metadata": {},
   "outputs": [
    {
     "data": {
      "text/plain": [
       "array([3])"
      ]
     },
     "execution_count": 10,
     "metadata": {},
     "output_type": "execute_result"
    }
   ],
   "source": [
    "lin_clf.predict([[9]])  # 输入新样本进行预测"
   ]
  },
  {
   "cell_type": "code",
   "execution_count": 1,
   "metadata": {},
   "outputs": [],
   "source": [
    "from sklearn import datasets"
   ]
  },
  {
   "cell_type": "code",
   "execution_count": null,
   "metadata": {},
   "outputs": [],
   "source": []
  }
 ],
 "metadata": {
  "kernelspec": {
   "display_name": "Python 3",
   "language": "python",
   "name": "python3"
  },
  "language_info": {
   "codemirror_mode": {
    "name": "ipython",
    "version": 3
   },
   "file_extension": ".py",
   "mimetype": "text/x-python",
   "name": "python",
   "nbconvert_exporter": "python",
   "pygments_lexer": "ipython3",
   "version": "3.6.5"
  }
 },
 "nbformat": 4,
 "nbformat_minor": 2
}
