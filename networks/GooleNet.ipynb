{
 "cells": [
  {
   "cell_type": "code",
   "execution_count": 31,
   "metadata": {},
   "outputs": [],
   "source": [
    "import torch\n",
    "from torch import nn\n",
    "from torch.nn import functional as F"
   ]
  },
  {
   "cell_type": "code",
   "execution_count": 35,
   "metadata": {},
   "outputs": [],
   "source": [
    "class BasicConv2d(nn.Module):\n",
    "    def __init__(self,in_channels,out_channels,**kwargs):\n",
    "        super(BasicConv2d,self).__init__()\n",
    "        self.conv=nn.Conv2d(in_channels,out_channels,bias=False,**kwargs)\n",
    "        self.bn=nn.BatchNorm2d(out_channels,eps=0.001)\n",
    "    def forward(self,x):\n",
    "        x=self.conv(x)\n",
    "        x=self.bn(x)\n",
    "        return F.relu(x,inplace=True)\n",
    "    \n",
    "    \n"
   ]
  },
  {
   "cell_type": "code",
   "execution_count": 13,
   "metadata": {},
   "outputs": [
    {
     "name": "stdout",
     "output_type": "stream",
     "text": [
      "1*1\n"
     ]
    }
   ],
   "source": [
    "print(\"1*1\")"
   ]
  },
  {
   "cell_type": "code",
   "execution_count": 53,
   "metadata": {},
   "outputs": [
    {
     "name": "stdout",
     "output_type": "stream",
     "text": [
      "Inception(\n",
      "  (branch1X1): BasicConv2d(\n",
      "    (conv): Conv2d(192, 64, kernel_size=(1, 1), stride=(1, 1), bias=False)\n",
      "    (bn): BatchNorm2d(64, eps=0.001, momentum=0.1, affine=True, track_running_stats=True)\n",
      "  )\n",
      "  (branch5X5_1): BasicConv2d(\n",
      "    (conv): Conv2d(192, 16, kernel_size=(1, 1), stride=(1, 1), bias=False)\n",
      "    (bn): BatchNorm2d(16, eps=0.001, momentum=0.1, affine=True, track_running_stats=True)\n",
      "  )\n",
      "  (branch5X5_2): BasicConv2d(\n",
      "    (conv): Conv2d(16, 32, kernel_size=(5, 5), stride=(1, 1), padding=(2, 2), bias=False)\n",
      "    (bn): BatchNorm2d(32, eps=0.001, momentum=0.1, affine=True, track_running_stats=True)\n",
      "  )\n",
      "  (branch3X3_1): BasicConv2d(\n",
      "    (conv): Conv2d(192, 96, kernel_size=(1, 1), stride=(1, 1), bias=False)\n",
      "    (bn): BatchNorm2d(96, eps=0.001, momentum=0.1, affine=True, track_running_stats=True)\n",
      "  )\n",
      "  (branch3X3_2): BasicConv2d(\n",
      "    (conv): Conv2d(96, 128, kernel_size=(3, 3), stride=(1, 1), padding=(1, 1), bias=False)\n",
      "    (bn): BatchNorm2d(128, eps=0.001, momentum=0.1, affine=True, track_running_stats=True)\n",
      "  )\n",
      "  (branch3X3_3): BasicConv2d(\n",
      "    (conv): Conv2d(128, 128, kernel_size=(3, 3), stride=(1, 1), padding=(1, 1), bias=False)\n",
      "    (bn): BatchNorm2d(128, eps=0.001, momentum=0.1, affine=True, track_running_stats=True)\n",
      "  )\n",
      "  (branch_pool): BasicConv2d(\n",
      "    (conv): Conv2d(192, 32, kernel_size=(1, 1), stride=(1, 1), bias=False)\n",
      "    (bn): BatchNorm2d(32, eps=0.001, momentum=0.1, affine=True, track_running_stats=True)\n",
      "  )\n",
      ")\n"
     ]
    }
   ],
   "source": [
    "class Inception(nn.Module):#*与X是有区别的\n",
    "    def __init__(self,in_channels,pool_features):\n",
    "        super(Inception,self).__init__()\n",
    "        self.branch1X1=BasicConv2d(in_channels,64,kernel_size=1)\n",
    "        \n",
    "        self.branch5X5_1=BasicConv2d(in_channels,16,kernel_size=1)\n",
    "        self.branch5X5_2=BasicConv2d(16,32,kernel_size=5,padding=2)\n",
    "        \n",
    "        self.branch3X3_1=BasicConv2d(in_channels,96,kernel_size=1)\n",
    "        self.branch3X3_2=BasicConv2d(96,128,kernel_size=3,padding=1)\n",
    "        self.branch3X3_3=BasicConv2d(128,128,kernel_size=3,padding=1)\n",
    "        \n",
    "        self.branch_pool=BasicConv2d(in_channels,pool_features,kernel_size=1)\n",
    "        \n",
    "    def forward(self,x):\n",
    "        branch1X1=self.branch1X1(x)\n",
    "        branch5X5=self.branch5X5_1(x)\n",
    "        branch5X5=self.branch5X5_2(branch5X5)\n",
    "        branch3X3=self.branch3X3_1(x)\n",
    "        branch3X3=self.branch3X3_2(branch3X3)\n",
    "        branch3X3=self.branch3X3_3(branch3X3)\n",
    "        branch_pool=F.avg_pool2d(x,3,1,1)\n",
    "        branch_pool=self.branch_pool(branch_pool)\n",
    "        \n",
    "        out=[branch1X1,branch5X5,branch3X3,branch_pool]\n",
    "        return torch.cat(outputs,1)\n",
    "\n",
    "    \n",
    "net=Inception(192,32)\n",
    "print(net)"
   ]
  },
  {
   "cell_type": "code",
   "execution_count": null,
   "metadata": {},
   "outputs": [],
   "source": []
  },
  {
   "cell_type": "code",
   "execution_count": null,
   "metadata": {},
   "outputs": [],
   "source": []
  }
 ],
 "metadata": {
  "kernelspec": {
   "display_name": "Python 3",
   "language": "python",
   "name": "python3"
  },
  "language_info": {
   "codemirror_mode": {
    "name": "ipython",
    "version": 3
   },
   "file_extension": ".py",
   "mimetype": "text/x-python",
   "name": "python",
   "nbconvert_exporter": "python",
   "pygments_lexer": "ipython3",
   "version": "3.6.5"
  }
 },
 "nbformat": 4,
 "nbformat_minor": 2
}
